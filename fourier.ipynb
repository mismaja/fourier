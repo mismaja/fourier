{
 "metadata": {
  "language_info": {
   "codemirror_mode": {
    "name": "ipython",
    "version": 3
   },
   "file_extension": ".py",
   "mimetype": "text/x-python",
   "name": "python",
   "nbconvert_exporter": "python",
   "pygments_lexer": "ipython3",
   "version": "3.6.6-final"
  },
  "orig_nbformat": 2,
  "kernelspec": {
   "name": "python3",
   "display_name": "Python 3",
   "language": "python"
  }
 },
 "nbformat": 4,
 "nbformat_minor": 2,
 "cells": [
  {
   "cell_type": "code",
   "execution_count": null,
   "metadata": {},
   "outputs": [],
   "source": [
    "import pandas as pd\n",
    "import numpy as np\n",
    "from scipy.fft import fft, fftfreq, fftshift\n",
    "from alpha_vantage.cryptocurrencies import CryptoCurrencies\n",
    "import matplotlib.pyplot as plt"
   ]
  },
  {
   "cell_type": "code",
   "execution_count": null,
   "metadata": {},
   "outputs": [],
   "source": [
    "%matplotlib inline \n",
    "waves = 1\n",
    "sampling = 24\n",
    "x = [np.pi*c/180 for c in np.linspace(0,waves*360,waves*sampling) ]  # start,stop,step\n",
    "y1 = np.sin(x)\n",
    "plt.plot(x,y1)\n",
    "plt.grid(True)\n",
    "plt.legend(['x'])\n",
    "plt.show()"
   ]
  },
  {
   "cell_type": "code",
   "execution_count": null,
   "metadata": {},
   "outputs": [],
   "source": [
    "%matplotlib inline \n",
    "waves = 3\n",
    "sampling = 48\n",
    "x = [np.pi*c/180 for c in np.linspace(0,waves*360,waves*sampling) ]  # start,stop,step\n",
    "y1 = np.sin(x)\n",
    "y2 = np.sin([2*c for c in x])\n",
    "plt.plot(x,y1)\n",
    "plt.plot(x,y2)\n",
    "plt.grid(True)\n",
    "plt.legend(['x', '2x'])\n",
    "plt.show()"
   ]
  },
  {
   "cell_type": "code",
   "execution_count": null,
   "metadata": {},
   "outputs": [],
   "source": [
    "plt.plot(x,y1+y2)"
   ]
  },
  {
   "cell_type": "code",
   "execution_count": null,
   "metadata": {},
   "outputs": [],
   "source": [
    "y3 = np.sin([0.3*c for c in x])\n",
    "plt.plot(x,y1)\n",
    "plt.plot(x,y3)\n",
    "plt.grid(True)\n",
    "plt.legend(['x', '0.3x'])\n",
    "plt.show()"
   ]
  },
  {
   "cell_type": "code",
   "execution_count": null,
   "metadata": {},
   "outputs": [],
   "source": [
    "plt.plot(x,y1+y2+y3)"
   ]
  },
  {
   "cell_type": "code",
   "execution_count": null,
   "metadata": {},
   "outputs": [],
   "source": [
    "waves = 3\n",
    "sampling = 48\n",
    "x = [np.pi*c/180 for c in np.linspace(0,waves*360,waves*sampling) ]  # start,stop,step\n",
    "y = None\n",
    "num_freqs = 5\n",
    "freq_orig = np.random.rand(num_freqs) * 5\n",
    "#freq_orig = [0.3,0.5,1,2]\n",
    "num_freqs = len(freq_orig)\n",
    "for i in freq_orig:\n",
    "    y_rand = np.sin([i*c for c in x])\n",
    "    y = y_rand if y is None else y + y_rand\n",
    "plt.plot(x,y)\n",
    "print('periods in_radians: %s' %(str(sorted([2/el for el in freq_orig]))))\n",
    "print('periods in_degs: %s' %(str(sorted([360/el for el in freq_orig]))))"
   ]
  },
  {
   "cell_type": "code",
   "execution_count": null,
   "metadata": {},
   "outputs": [],
   "source": [
    "plt.plot(abs(fft(y1))[:len(y1)//2])"
   ]
  },
  {
   "cell_type": "code",
   "execution_count": null,
   "metadata": {},
   "outputs": [],
   "source": [
    "plt.plot(abs(fft(y))[:len(y)//2])"
   ]
  },
  {
   "cell_type": "code",
   "execution_count": null,
   "metadata": {},
   "outputs": [],
   "source": [
    "plt.plot(abs(fft(y))[:len(y)//2], 'o')"
   ]
  },
  {
   "cell_type": "code",
   "execution_count": null,
   "metadata": {},
   "outputs": [],
   "source": [
    "AlphaVantage_api_key = \"INSERT-YOUR-API-KEY-HERE\"\n",
    "cc = CryptoCurrencies(key=AlphaVantage_api_key, output_format='pandas')\n",
    "\n",
    "# get data\n",
    "df, meta_data = cc.get_digital_currency_daily(symbol='BTC', market='USD')\n",
    "\n",
    "# prep column names, index etc.\n",
    "cols = ['1a. open (USD)', '2a. high (USD)', '3a. low (USD)', '4a. close (USD)', '5. volume']\n",
    "df.index = pd.to_datetime(df.index)\n",
    "df = df[cols].sort_index()\n",
    "df.columns = ['open', 'high', 'low', 'close', 'vol']"
   ]
  },
  {
   "cell_type": "code",
   "execution_count": null,
   "metadata": {},
   "outputs": [],
   "source": [
    "y = df['close'].to_numpy()\n",
    "plt.plot(y)"
   ]
  },
  {
   "cell_type": "code",
   "execution_count": null,
   "metadata": {},
   "outputs": [],
   "source": [
    "plt.plot(abs(fft(y))[:len(y)//2])"
   ]
  },
  {
   "cell_type": "code",
   "execution_count": null,
   "metadata": {},
   "outputs": [],
   "source": [
    "plt.plot(abs(fft(y))[:len(y)//2], 'o')"
   ]
  },
  {
   "source": [
    "źródło danych: https://www.gpw.pl/archiwum-notowan"
   ],
   "cell_type": "markdown",
   "metadata": {}
  },
  {
   "cell_type": "code",
   "execution_count": null,
   "metadata": {},
   "outputs": [],
   "source": [
    "fname = 'KGHM'\n",
    "df = pd.read_excel(fname + '.xls', index_col=0)\n",
    "df = df[['Kurs otwarcia',\t'Kurs max',\t'Kurs min',\t'Kurs zamknięcia',\t'Wolumen']]\n",
    "df.columns = ['open', 'high', 'low', 'close', 'vol']\n",
    "display(df.tail(5))\n",
    "df['close'].plot()"
   ]
  },
  {
   "cell_type": "code",
   "execution_count": null,
   "metadata": {},
   "outputs": [],
   "source": [
    "y = df['close'].to_numpy()\n",
    "plt.plot(abs(fft(y))[:len(y)//2])"
   ]
  },
  {
   "source": [
    "źródło danych: https://www.gpw.pl/archiwum-notowan"
   ],
   "cell_type": "markdown",
   "metadata": {}
  },
  {
   "cell_type": "code",
   "execution_count": null,
   "metadata": {},
   "outputs": [],
   "source": [
    "fname = 'WIG20'\n",
    "df = pd.read_excel(fname + '.xls', index_col=0)\n",
    "df = df[['Kurs otwarcia',\t'Kurs max',\t'Kurs min',\t'Kurs zamknięcia',\t'Wolumen']]\n",
    "df.columns = ['open', 'high', 'low', 'close', 'vol']\n",
    "display(df.tail(5))\n",
    "df.plot()"
   ]
  },
  {
   "cell_type": "code",
   "execution_count": null,
   "metadata": {},
   "outputs": [],
   "source": [
    "y = df['close'].to_numpy()\n",
    "plt.plot(abs(fft(y))[:len(y)//2])"
   ]
  },
  {
   "cell_type": "code",
   "execution_count": null,
   "metadata": {},
   "outputs": [],
   "source": [
    "x = np.linspace(0,20*np.pi,len(y))\n",
    "y1 = 1000 * np.sin(x)\n",
    "plt.plot(y1)"
   ]
  },
  {
   "cell_type": "code",
   "execution_count": null,
   "metadata": {},
   "outputs": [],
   "source": [
    "y2 = y + y1\n",
    "plt.plot(y2)"
   ]
  },
  {
   "cell_type": "code",
   "execution_count": null,
   "metadata": {},
   "outputs": [],
   "source": [
    "plt.plot(abs(fft(y2))[:100])"
   ]
  }
 ]
}